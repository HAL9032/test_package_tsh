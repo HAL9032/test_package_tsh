{
 "cells": [
  {
   "cell_type": "markdown",
   "metadata": {},
   "source": [
    "# Tutorial 1<br><br>"
   ]
  },
  {
   "cell_type": "markdown",
   "metadata": {},
   "source": [
    "Do some initial stuff:\n",
    "<br><br>"
   ]
  },
  {
   "cell_type": "code",
   "execution_count": 1,
   "metadata": {},
   "outputs": [],
   "source": [
    "import sys\n",
    "import os\n",
    "\n",
    "sys.path.insert(0, os.path.abspath('../../../src'))\n",
    "\n",
    "import test_package_tsh as tp\n"
   ]
  },
  {
   "cell_type": "markdown",
   "metadata": {},
   "source": [
    "<br><br><br><hr><br><br>"
   ]
  },
  {
   "cell_type": "markdown",
   "metadata": {},
   "source": [
    "## Crazy first section\n",
    "Look at very helpful docstrings:\n",
    "<br><br>"
   ]
  },
  {
   "cell_type": "code",
   "execution_count": 2,
   "metadata": {},
   "outputs": [
    {
     "name": "stdout",
     "output_type": "stream",
     "text": [
      "Help on function m1_fn1 in module test_package_tsh.sub_pkg_1._sp1_module_1:\n",
      "\n",
      "m1_fn1(x: str = 'default_string') -> str\n",
      "    Function 1 of module 1 in sub package 1\n",
      "    \n",
      "    Args:\n",
      "        x (str): input string\n",
      "    \n",
      "    Returns:\n",
      "        str : input string with prefix sp1 m1 fn1\n",
      "    \n",
      "    Example:\n",
      "        >>> tp.sp1.m1_fn1(\"test\")\n",
      "        \"sp1 m1 fn1 test\"\n",
      "\n"
     ]
    }
   ],
   "source": [
    "help(tp.sp1.m1_fn1)"
   ]
  },
  {
   "cell_type": "markdown",
   "metadata": {},
   "source": [
    "Run very useful functions:"
   ]
  },
  {
   "cell_type": "code",
   "execution_count": 3,
   "metadata": {},
   "outputs": [
    {
     "data": {
      "text/plain": [
       "'sp1 m1 fn1 test'"
      ]
     },
     "execution_count": 3,
     "metadata": {},
     "output_type": "execute_result"
    }
   ],
   "source": [
    "tp.sp1.m1_fn1(\"test\")"
   ]
  },
  {
   "cell_type": "markdown",
   "metadata": {},
   "source": [
    "<br><br><br><hr><br><br>"
   ]
  },
  {
   "cell_type": "markdown",
   "metadata": {},
   "source": [
    "## Awesome second section<br><br>\n",
    "**You can do even more!**<br>\n",
    "- Run function 2 of module 1 of subpackage 1\n",
    "- Run function 1 of module 2 of subpackage 1\n",
    "- Run function 1 of module 1 of subpackage 2\n",
    "<br><br>"
   ]
  },
  {
   "cell_type": "code",
   "execution_count": 7,
   "metadata": {},
   "outputs": [
    {
     "data": {
      "text/plain": [
       "'sp1 m1 fn2 default_string'"
      ]
     },
     "execution_count": 7,
     "metadata": {},
     "output_type": "execute_result"
    }
   ],
   "source": [
    "tp.sp1.m1_fn2()"
   ]
  },
  {
   "cell_type": "code",
   "execution_count": 8,
   "metadata": {},
   "outputs": [
    {
     "data": {
      "text/plain": [
       "'sp1 m2 fn1 default_string'"
      ]
     },
     "execution_count": 8,
     "metadata": {},
     "output_type": "execute_result"
    }
   ],
   "source": [
    "tp.sp1.m2_fn1()"
   ]
  },
  {
   "cell_type": "code",
   "execution_count": 9,
   "metadata": {},
   "outputs": [
    {
     "data": {
      "text/plain": [
       "'sp2 m1 fn1 default_string'"
      ]
     },
     "execution_count": 9,
     "metadata": {},
     "output_type": "execute_result"
    }
   ],
   "source": [
    "tp.sp2.m1_fn1()"
   ]
  }
 ],
 "metadata": {
  "kernelspec": {
   "display_name": "data_preprocessing",
   "language": "python",
   "name": "python3"
  },
  "language_info": {
   "codemirror_mode": {
    "name": "ipython",
    "version": 3
   },
   "file_extension": ".py",
   "mimetype": "text/x-python",
   "name": "python",
   "nbconvert_exporter": "python",
   "pygments_lexer": "ipython3",
   "version": "3.10.8"
  }
 },
 "nbformat": 4,
 "nbformat_minor": 2
}
